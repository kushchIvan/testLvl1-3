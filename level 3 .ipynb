{
 "cells": [
  {
   "cell_type": "code",
   "execution_count": 1,
   "id": "cc62bc7a",
   "metadata": {},
   "outputs": [
    {
     "name": "stdout",
     "output_type": "stream",
     "text": [
      "Requirement already satisfied: selenium in /Users/chambo_enjoyer/anaconda3/lib/python3.11/site-packages (4.18.1)\n",
      "Requirement already satisfied: urllib3[socks]<3,>=1.26 in /Users/chambo_enjoyer/anaconda3/lib/python3.11/site-packages (from selenium) (1.26.16)\n",
      "Requirement already satisfied: trio~=0.17 in /Users/chambo_enjoyer/anaconda3/lib/python3.11/site-packages (from selenium) (0.24.0)\n",
      "Requirement already satisfied: trio-websocket~=0.9 in /Users/chambo_enjoyer/anaconda3/lib/python3.11/site-packages (from selenium) (0.11.1)\n",
      "Requirement already satisfied: certifi>=2021.10.8 in /Users/chambo_enjoyer/anaconda3/lib/python3.11/site-packages (from selenium) (2023.7.22)\n",
      "Requirement already satisfied: typing_extensions>=4.9.0 in /Users/chambo_enjoyer/anaconda3/lib/python3.11/site-packages (from selenium) (4.10.0)\n",
      "Requirement already satisfied: attrs>=20.1.0 in /Users/chambo_enjoyer/anaconda3/lib/python3.11/site-packages (from trio~=0.17->selenium) (22.1.0)\n",
      "Requirement already satisfied: sortedcontainers in /Users/chambo_enjoyer/anaconda3/lib/python3.11/site-packages (from trio~=0.17->selenium) (2.4.0)\n",
      "Requirement already satisfied: idna in /Users/chambo_enjoyer/anaconda3/lib/python3.11/site-packages (from trio~=0.17->selenium) (3.4)\n",
      "Requirement already satisfied: outcome in /Users/chambo_enjoyer/anaconda3/lib/python3.11/site-packages (from trio~=0.17->selenium) (1.3.0.post0)\n",
      "Requirement already satisfied: sniffio>=1.3.0 in /Users/chambo_enjoyer/anaconda3/lib/python3.11/site-packages (from trio~=0.17->selenium) (1.3.1)\n",
      "Requirement already satisfied: wsproto>=0.14 in /Users/chambo_enjoyer/anaconda3/lib/python3.11/site-packages (from trio-websocket~=0.9->selenium) (1.2.0)\n",
      "Requirement already satisfied: PySocks!=1.5.7,<2.0,>=1.5.6 in /Users/chambo_enjoyer/anaconda3/lib/python3.11/site-packages (from urllib3[socks]<3,>=1.26->selenium) (1.7.1)\n",
      "Requirement already satisfied: h11<1,>=0.9.0 in /Users/chambo_enjoyer/anaconda3/lib/python3.11/site-packages (from wsproto>=0.14->trio-websocket~=0.9->selenium) (0.14.0)\n",
      "Note: you may need to restart the kernel to use updated packages.\n"
     ]
    }
   ],
   "source": [
    "pip install selenium\n"
   ]
  },
  {
   "cell_type": "code",
   "execution_count": 2,
   "id": "1287c00a",
   "metadata": {},
   "outputs": [
    {
     "name": "stdout",
     "output_type": "stream",
     "text": [
      "Requirement already satisfied: gspread in /Users/chambo_enjoyer/anaconda3/lib/python3.11/site-packages (6.0.2)\n",
      "Requirement already satisfied: google-auth>=1.12.0 in /Users/chambo_enjoyer/anaconda3/lib/python3.11/site-packages (from gspread) (2.28.1)\n",
      "Requirement already satisfied: google-auth-oauthlib>=0.4.1 in /Users/chambo_enjoyer/anaconda3/lib/python3.11/site-packages (from gspread) (1.2.0)\n",
      "Requirement already satisfied: StrEnum==0.4.15 in /Users/chambo_enjoyer/anaconda3/lib/python3.11/site-packages (from gspread) (0.4.15)\n",
      "Requirement already satisfied: cachetools<6.0,>=2.0.0 in /Users/chambo_enjoyer/anaconda3/lib/python3.11/site-packages (from google-auth>=1.12.0->gspread) (5.3.3)\n",
      "Requirement already satisfied: pyasn1-modules>=0.2.1 in /Users/chambo_enjoyer/anaconda3/lib/python3.11/site-packages (from google-auth>=1.12.0->gspread) (0.2.8)\n",
      "Requirement already satisfied: rsa<5,>=3.1.4 in /Users/chambo_enjoyer/anaconda3/lib/python3.11/site-packages (from google-auth>=1.12.0->gspread) (4.9)\n",
      "Requirement already satisfied: requests-oauthlib>=0.7.0 in /Users/chambo_enjoyer/anaconda3/lib/python3.11/site-packages (from google-auth-oauthlib>=0.4.1->gspread) (1.3.1)\n",
      "Requirement already satisfied: pyasn1<0.5.0,>=0.4.6 in /Users/chambo_enjoyer/anaconda3/lib/python3.11/site-packages (from pyasn1-modules>=0.2.1->google-auth>=1.12.0->gspread) (0.4.8)\n",
      "Requirement already satisfied: oauthlib>=3.0.0 in /Users/chambo_enjoyer/anaconda3/lib/python3.11/site-packages (from requests-oauthlib>=0.7.0->google-auth-oauthlib>=0.4.1->gspread) (3.2.2)\n",
      "Requirement already satisfied: requests>=2.0.0 in /Users/chambo_enjoyer/anaconda3/lib/python3.11/site-packages (from requests-oauthlib>=0.7.0->google-auth-oauthlib>=0.4.1->gspread) (2.31.0)\n",
      "Requirement already satisfied: charset-normalizer<4,>=2 in /Users/chambo_enjoyer/anaconda3/lib/python3.11/site-packages (from requests>=2.0.0->requests-oauthlib>=0.7.0->google-auth-oauthlib>=0.4.1->gspread) (2.0.4)\n",
      "Requirement already satisfied: idna<4,>=2.5 in /Users/chambo_enjoyer/anaconda3/lib/python3.11/site-packages (from requests>=2.0.0->requests-oauthlib>=0.7.0->google-auth-oauthlib>=0.4.1->gspread) (3.4)\n",
      "Requirement already satisfied: urllib3<3,>=1.21.1 in /Users/chambo_enjoyer/anaconda3/lib/python3.11/site-packages (from requests>=2.0.0->requests-oauthlib>=0.7.0->google-auth-oauthlib>=0.4.1->gspread) (1.26.16)\n",
      "Requirement already satisfied: certifi>=2017.4.17 in /Users/chambo_enjoyer/anaconda3/lib/python3.11/site-packages (from requests>=2.0.0->requests-oauthlib>=0.7.0->google-auth-oauthlib>=0.4.1->gspread) (2023.7.22)\n",
      "Note: you may need to restart the kernel to use updated packages.\n"
     ]
    }
   ],
   "source": [
    "pip install gspread\n"
   ]
  },
  {
   "cell_type": "code",
   "execution_count": 4,
   "id": "1cf20407",
   "metadata": {},
   "outputs": [
    {
     "ename": "ValueError",
     "evalue": "('Unexpected credentials type', None, 'Expected', 'service_account')",
     "output_type": "error",
     "traceback": [
      "\u001b[0;31m---------------------------------------------------------------------------\u001b[0m",
      "\u001b[0;31mValueError\u001b[0m                                Traceback (most recent call last)",
      "Cell \u001b[0;32mIn[4], line 9\u001b[0m\n\u001b[1;32m      7\u001b[0m \u001b[38;5;66;03m# Налаштування для з'єднання з Google Sheets\u001b[39;00m\n\u001b[1;32m      8\u001b[0m SCOPES \u001b[38;5;241m=\u001b[39m [\u001b[38;5;124m'\u001b[39m\u001b[38;5;124mhttps://www.googleapis.com/auth/spreadsheets\u001b[39m\u001b[38;5;124m'\u001b[39m]\n\u001b[0;32m----> 9\u001b[0m credentials \u001b[38;5;241m=\u001b[39m ServiceAccountCredentials\u001b[38;5;241m.\u001b[39mfrom_json_keyfile_name(\u001b[38;5;124m'\u001b[39m\u001b[38;5;124mcredentials.json\u001b[39m\u001b[38;5;124m'\u001b[39m, SCOPES)\n\u001b[1;32m     10\u001b[0m gc \u001b[38;5;241m=\u001b[39m gspread\u001b[38;5;241m.\u001b[39mauthorize(credentials)\n\u001b[1;32m     11\u001b[0m spreadsheet_key \u001b[38;5;241m=\u001b[39m \u001b[38;5;124m'\u001b[39m\u001b[38;5;124m/1vyiMVqcqySwaNZbGyeuz1NrBU9YTMPqmiRc_QNncsXI/\u001b[39m\u001b[38;5;124m'\u001b[39m\n",
      "File \u001b[0;32m~/anaconda3/lib/python3.11/site-packages/oauth2client/service_account.py:221\u001b[0m, in \u001b[0;36mServiceAccountCredentials.from_json_keyfile_name\u001b[0;34m(cls, filename, scopes, token_uri, revoke_uri)\u001b[0m\n\u001b[1;32m    219\u001b[0m \u001b[38;5;28;01mwith\u001b[39;00m \u001b[38;5;28mopen\u001b[39m(filename, \u001b[38;5;124m'\u001b[39m\u001b[38;5;124mr\u001b[39m\u001b[38;5;124m'\u001b[39m) \u001b[38;5;28;01mas\u001b[39;00m file_obj:\n\u001b[1;32m    220\u001b[0m     client_credentials \u001b[38;5;241m=\u001b[39m json\u001b[38;5;241m.\u001b[39mload(file_obj)\n\u001b[0;32m--> 221\u001b[0m \u001b[38;5;28;01mreturn\u001b[39;00m \u001b[38;5;28mcls\u001b[39m\u001b[38;5;241m.\u001b[39m_from_parsed_json_keyfile(client_credentials, scopes,\n\u001b[1;32m    222\u001b[0m                                      token_uri\u001b[38;5;241m=\u001b[39mtoken_uri,\n\u001b[1;32m    223\u001b[0m                                      revoke_uri\u001b[38;5;241m=\u001b[39mrevoke_uri)\n",
      "File \u001b[0;32m~/anaconda3/lib/python3.11/site-packages/oauth2client/service_account.py:171\u001b[0m, in \u001b[0;36mServiceAccountCredentials._from_parsed_json_keyfile\u001b[0;34m(cls, keyfile_dict, scopes, token_uri, revoke_uri)\u001b[0m\n\u001b[1;32m    169\u001b[0m creds_type \u001b[38;5;241m=\u001b[39m keyfile_dict\u001b[38;5;241m.\u001b[39mget(\u001b[38;5;124m'\u001b[39m\u001b[38;5;124mtype\u001b[39m\u001b[38;5;124m'\u001b[39m)\n\u001b[1;32m    170\u001b[0m \u001b[38;5;28;01mif\u001b[39;00m creds_type \u001b[38;5;241m!=\u001b[39m client\u001b[38;5;241m.\u001b[39mSERVICE_ACCOUNT:\n\u001b[0;32m--> 171\u001b[0m     \u001b[38;5;28;01mraise\u001b[39;00m \u001b[38;5;167;01mValueError\u001b[39;00m(\u001b[38;5;124m'\u001b[39m\u001b[38;5;124mUnexpected credentials type\u001b[39m\u001b[38;5;124m'\u001b[39m, creds_type,\n\u001b[1;32m    172\u001b[0m                      \u001b[38;5;124m'\u001b[39m\u001b[38;5;124mExpected\u001b[39m\u001b[38;5;124m'\u001b[39m, client\u001b[38;5;241m.\u001b[39mSERVICE_ACCOUNT)\n\u001b[1;32m    174\u001b[0m service_account_email \u001b[38;5;241m=\u001b[39m keyfile_dict[\u001b[38;5;124m'\u001b[39m\u001b[38;5;124mclient_email\u001b[39m\u001b[38;5;124m'\u001b[39m]\n\u001b[1;32m    175\u001b[0m private_key_pkcs8_pem \u001b[38;5;241m=\u001b[39m keyfile_dict[\u001b[38;5;124m'\u001b[39m\u001b[38;5;124mprivate_key\u001b[39m\u001b[38;5;124m'\u001b[39m]\n",
      "\u001b[0;31mValueError\u001b[0m: ('Unexpected credentials type', None, 'Expected', 'service_account')"
     ]
    }
   ],
   "source": [
    "from selenium import webdriver\n",
    "from selenium.webdriver.common.by import By\n",
    "from selenium.webdriver.common.keys import Keys\n",
    "import gspread\n",
    "from oauth2client.service_account import ServiceAccountCredentials\n",
    "\n",
    "\n",
    "SCOPES = ['https://www.googleapis.com/auth/spreadsheets']\n",
    "credentials = ServiceAccountCredentials.from_json_keyfile_name('credentials.json', SCOPES)\n",
    "gc = gspread.authorize(credentials)\n",
    "spreadsheet_key = '/1vyiMVqcqySwaNZbGyeuz1NrBU9YTMPqmiRc_QNncsXI/'\n",
    "\n",
    "def parse_olx():\n",
    "    \n",
    "    driver = webdriver.Chrome()\n",
    "    driver.get(\"https://www.olx.ua/nedvizhimost/kvartiry-komnaty/prodazha-kvartir-komnat/kvartira/\")\n",
    "\n",
    "\n",
    "    ads = driver.find_elements(By.XPATH, \"//div[@class='offer-wrapper']\")\n",
    "\n",
    "\n",
    "    data = []\n",
    "\n",
    "\n",
    "    for ad in ads:\n",
    "        price = ad.find_element(By.XPATH, \".//strong\").text\n",
    "        location = ad.find_element(By.XPATH, \".//p[@class='lheight16']\").text\n",
    "        data.append([price, location])\n",
    "\n",
    "   \n",
    "    driver.quit()\n",
    "\n",
    "    return data\n",
    "\n",
    "def write_to_google_sheets(data):\n",
    "\n",
    "    worksheet = gc.open_by_key(spreadsheet_key).sheet1\n",
    "\n",
    "\n",
    "    worksheet.clear()\n",
    "\n",
    " \n",
    "    for i, row in enumerate(data, start=1):\n",
    "        worksheet.insert_row(row, i)\n",
    "\n",
    "if __name__ == '__main__':\n",
    "    ads_data = parse_olx()\n",
    "    write_to_google_sheets(ads_data)\n"
   ]
  },
  {
   "cell_type": "code",
   "execution_count": 5,
   "id": "b1c371ae",
   "metadata": {},
   "outputs": [
    {
     "name": "stdout",
     "output_type": "stream",
     "text": [
      "{\"installed\":{\"client_id\":\"493892771535-t43n7uhublm7q0lcikg0nk03g5uio8o5.apps.googleusercontent.com\",\"project_id\":\"kushchtest1\",\"auth_uri\":\"https://accounts.google.com/o/oauth2/auth\",\"token_uri\":\"https://oauth2.googleapis.com/token\",\"auth_provider_x509_cert_url\":\"https://www.googleapis.com/oauth2/v1/certs\",\"client_secret\":\"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\",\"redirect_uris\":[\"http://localhost\"]}}\n"
     ]
    }
   ],
   "source": [
    "with open('credentials.json', 'r') as file:\n",
    "    print(file.read())\n"
   ]
  },
  {
   "cell_type": "code",
   "execution_count": null,
   "id": "73f99c2b",
   "metadata": {},
   "outputs": [],
   "source": []
  },
  {
   "cell_type": "code",
   "execution_count": null,
   "id": "cb67aea1",
   "metadata": {},
   "outputs": [],
   "source": []
  }
 ],
 "metadata": {
  "kernelspec": {
   "display_name": "Python 3 (ipykernel)",
   "language": "python",
   "name": "python3"
  },
  "language_info": {
   "codemirror_mode": {
    "name": "ipython",
    "version": 3
   },
   "file_extension": ".py",
   "mimetype": "text/x-python",
   "name": "python",
   "nbconvert_exporter": "python",
   "pygments_lexer": "ipython3",
   "version": "3.11.5"
  }
 },
 "nbformat": 4,
 "nbformat_minor": 5
}
