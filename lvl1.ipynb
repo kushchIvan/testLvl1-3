{
 "cells": [
  {
   "cell_type": "code",
   "execution_count": 4,
   "id": "a090ba02",
   "metadata": {},
   "outputs": [],
   "source": [
    "\n",
    "\n",
    "\n",
    "\n",
    "\n"
   ]
  },
  {
   "cell_type": "code",
   "execution_count": 13,
   "id": "74bf9ca7",
   "metadata": {},
   "outputs": [
    {
     "name": "stdout",
     "output_type": "stream",
     "text": [
      "<class 'list'>\n"
     ]
    }
   ],
   "source": [
    "\n",
    "import os \n",
    "from google.auth.transport.requests import Request\n",
    "from google.oauth2.credentials import Credentials\n",
    "from google_auth_oauthlib.flow import InstalledAppFlow\n",
    "from googleapiclient.discovery import build\n",
    "from googleapiclient.errors import HttpError\n",
    "\n",
    "\n",
    "SCOPES = ['https://www.googleapis.com/auth/spreadsheets']\n",
    "SPREADSHEET_ID = '1Ut7cvQn4_Czj-uYeekhm3QDMO5EBVehhkefGPZaFpXM'\n",
    "def main():\n",
    "    credentials = None\n",
    "\n",
    "    if os.path.exists('token.json'):\n",
    "        credentials = Credentials.from_authorized_user_file('token.json', SCOPES)\n",
    "\n",
    "    if not credentials or not credentials.valid:\n",
    "        if credentials and credentials.expired and credentials.refresh_token:\n",
    "            credentials.refresh(Request())\n",
    "        else:\n",
    "            flow = InstalledAppFlow.from_client_secrets_file('credentials.json', SCOPES)\n",
    "            credentials = flow.run_local_server(port=0)\n",
    "        with open('token.json', 'w') as token:\n",
    "            token.write(credentials.to_json())\n",
    "\n",
    "    try:\n",
    "        service = build('sheets', 'v4', credentials=credentials)\n",
    "        sheets = service.spreadsheets()\n",
    "        result = sheets.values().get(spreadsheetId=SPREADSHEET_ID, range='feed!A2:A3').execute()\n",
    "\n",
    "        values = result.get('values', [])\n",
    "        links = []  \n",
    "\n",
    "        for row in values:\n",
    "            links.append(row)  \n",
    "\n",
    "        return links \n",
    "\n",
    "    except HttpError as error:\n",
    "        print(error)\n",
    "\n",
    "if __name__ == '__main__':\n",
    "    links = main()\n",
    "    print(type(links[0]))\n"
   ]
  },
  {
   "cell_type": "code",
   "execution_count": 12,
   "id": "f741f7b0",
   "metadata": {},
   "outputs": [
    {
     "name": "stdout",
     "output_type": "stream",
     "text": [
      "An error occurred: No connection adapters were found for \"['https://data.sanitino.eu/PRODUCT-33916/8607663ccebd28fe87b63f8f?size=feed-1080']\"\n",
      "An error occurred: No connection adapters were found for \"['https://data.sanitino.eu/PRODUCT-62434/f7aa3c2884a870a185e9232b?size=feed-1080']\"\n",
      "Empty DataFrame\n",
      "Columns: []\n",
      "Index: []\n"
     ]
    }
   ],
   "source": [
    "import pandas as pd\n",
    "import requests\n",
    "\n",
    "def get_image_size(url):\n",
    "    try:\n",
    "        response = requests.head(url)  \n",
    "        if response.status_code == 200:  \n",
    "            content_length = response.headers.get('content-length')  \n",
    "            if content_length:\n",
    "                size_in_bytes = int(content_length)\n",
    "                size_in_kb = size_in_bytes / 1024  \n",
    "                return size_in_kb\n",
    "        else:\n",
    "            print(f\"Error: {response.status_code}\")  \n",
    "        print(f\"An error occurred: {e}\")\n",
    "        return None\n",
    "\n",
    "def create_dataframe(links):\n",
    "    data = []\n",
    "    for link in links:\n",
    "        size = get_image_size(link)\n",
    "        if size:\n",
    "            data.append({'Посилання': link, 'Розмір (KB)': size})\n",
    "\n",
    "    df = pd.DataFrame(data)\n",
    "    return df\n",
    "\n",
    "if __name__ == '__main__':\n",
    "\n",
    "    dataframe = create_dataframe(links)\n",
    "    print(dataframe)\n",
    "\n"
   ]
  },
  {
   "cell_type": "code",
   "execution_count": null,
   "id": "cef48d8e",
   "metadata": {},
   "outputs": [],
   "source": []
  }
 ],
 "metadata": {
  "kernelspec": {
   "display_name": "Python 3 (ipykernel)",
   "language": "python",
   "name": "python3"
  },
  "language_info": {
   "codemirror_mode": {
    "name": "ipython",
    "version": 3
   },
   "file_extension": ".py",
   "mimetype": "text/x-python",
   "name": "python",
   "nbconvert_exporter": "python",
   "pygments_lexer": "ipython3",
   "version": "3.11.5"
  }
 },
 "nbformat": 4,
 "nbformat_minor": 5
}
